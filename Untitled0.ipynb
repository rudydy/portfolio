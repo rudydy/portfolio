{
  "nbformat": 4,
  "nbformat_minor": 0,
  "metadata": {
    "colab": {
      "provenance": [],
      "toc_visible": true,
      "authorship_tag": "ABX9TyMVweVTlgAxz6rR2xu+PAgV",
      "include_colab_link": true
    },
    "kernelspec": {
      "name": "python3",
      "display_name": "Python 3"
    },
    "language_info": {
      "name": "python"
    }
  },
  "cells": [
    {
      "cell_type": "markdown",
      "metadata": {
        "id": "view-in-github",
        "colab_type": "text"
      },
      "source": [
        "<a href=\"https://colab.research.google.com/github/rudydy/portfolio/blob/main/Untitled0.ipynb\" target=\"_parent\"><img src=\"https://colab.research.google.com/assets/colab-badge.svg\" alt=\"Open In Colab\"/></a>"
      ]
    },
    {
      "cell_type": "code",
      "execution_count": null,
      "metadata": {
        "id": "CWv8tJtUWlyg"
      },
      "outputs": [],
      "source": []
    },
    {
      "cell_type": "markdown",
      "source": [
        "# Python\n",
        "* 커뮤니티\n",
        "* 난이도\n",
        "* 빠른 목표 달성\n",
        "* 웹, gui(계산기, 키오스크), 게임 개발, 데이터 분석, 인공지능 등 다양한 분야에 활용\n",
        "\n",
        "\n"
      ],
      "metadata": {
        "id": "mQrAlSNXXTDw"
      }
    },
    {
      "cell_type": "markdown",
      "source": [
        "## 변수"
      ],
      "metadata": {
        "id": "XBdUO0xUah58"
      }
    },
    {
      "cell_type": "code",
      "source": [
        "\n",
        "x = 10\n",
        "y = 20\n",
        "print(x+y)\n"
      ],
      "metadata": {
        "colab": {
          "base_uri": "https://localhost:8080/"
        },
        "id": "iugORipqbL1y",
        "outputId": "f45a3033-7945-4641-8fe9-26e2adc9f13c"
      },
      "execution_count": 1,
      "outputs": [
        {
          "output_type": "stream",
          "name": "stdout",
          "text": [
            "30\n"
          ]
        }
      ]
    },
    {
      "cell_type": "code",
      "source": [
        "x+y # 마지막줄 프린트 안 해도"
      ],
      "metadata": {
        "colab": {
          "base_uri": "https://localhost:8080/"
        },
        "id": "Ptc6pGxTbPVL",
        "outputId": "0102702b-a106-4c69-f77f-61294e47be70"
      },
      "execution_count": 2,
      "outputs": [
        {
          "output_type": "execute_result",
          "data": {
            "text/plain": [
              "30"
            ]
          },
          "metadata": {},
          "execution_count": 2
        }
      ]
    },
    {
      "cell_type": "code",
      "source": [
        "x"
      ],
      "metadata": {
        "colab": {
          "base_uri": "https://localhost:8080/"
        },
        "id": "nSw0k2LPbvVW",
        "outputId": "4ebf7c28-42a8-45ed-88e9-aa7749752534"
      },
      "execution_count": 3,
      "outputs": [
        {
          "output_type": "execute_result",
          "data": {
            "text/plain": [
              "10"
            ]
          },
          "metadata": {},
          "execution_count": 3
        }
      ]
    },
    {
      "cell_type": "code",
      "source": [
        "x, type(x), dir(x) # 변수를 만나면 type(정체, 이름)과 dir(속성)을 해보세요!"
      ],
      "metadata": {
        "colab": {
          "base_uri": "https://localhost:8080/"
        },
        "id": "RYp5tpFPb4tG",
        "outputId": "a01ee835-73c7-4276-c70c-d2580d06b23a"
      },
      "execution_count": 5,
      "outputs": [
        {
          "output_type": "execute_result",
          "data": {
            "text/plain": [
              "(10,\n",
              " int,\n",
              " ['__abs__',\n",
              "  '__add__',\n",
              "  '__and__',\n",
              "  '__bool__',\n",
              "  '__ceil__',\n",
              "  '__class__',\n",
              "  '__delattr__',\n",
              "  '__dir__',\n",
              "  '__divmod__',\n",
              "  '__doc__',\n",
              "  '__eq__',\n",
              "  '__float__',\n",
              "  '__floor__',\n",
              "  '__floordiv__',\n",
              "  '__format__',\n",
              "  '__ge__',\n",
              "  '__getattribute__',\n",
              "  '__getnewargs__',\n",
              "  '__gt__',\n",
              "  '__hash__',\n",
              "  '__index__',\n",
              "  '__init__',\n",
              "  '__init_subclass__',\n",
              "  '__int__',\n",
              "  '__invert__',\n",
              "  '__le__',\n",
              "  '__lshift__',\n",
              "  '__lt__',\n",
              "  '__mod__',\n",
              "  '__mul__',\n",
              "  '__ne__',\n",
              "  '__neg__',\n",
              "  '__new__',\n",
              "  '__or__',\n",
              "  '__pos__',\n",
              "  '__pow__',\n",
              "  '__radd__',\n",
              "  '__rand__',\n",
              "  '__rdivmod__',\n",
              "  '__reduce__',\n",
              "  '__reduce_ex__',\n",
              "  '__repr__',\n",
              "  '__rfloordiv__',\n",
              "  '__rlshift__',\n",
              "  '__rmod__',\n",
              "  '__rmul__',\n",
              "  '__ror__',\n",
              "  '__round__',\n",
              "  '__rpow__',\n",
              "  '__rrshift__',\n",
              "  '__rshift__',\n",
              "  '__rsub__',\n",
              "  '__rtruediv__',\n",
              "  '__rxor__',\n",
              "  '__setattr__',\n",
              "  '__sizeof__',\n",
              "  '__str__',\n",
              "  '__sub__',\n",
              "  '__subclasshook__',\n",
              "  '__truediv__',\n",
              "  '__trunc__',\n",
              "  '__xor__',\n",
              "  'as_integer_ratio',\n",
              "  'bit_count',\n",
              "  'bit_length',\n",
              "  'conjugate',\n",
              "  'denominator',\n",
              "  'from_bytes',\n",
              "  'imag',\n",
              "  'numerator',\n",
              "  'real',\n",
              "  'to_bytes'])"
            ]
          },
          "metadata": {},
          "execution_count": 5
        }
      ]
    },
    {
      "cell_type": "code",
      "source": [
        "a = 10  # int\n",
        "b = 10.1  # float\n",
        "c = '10'  # str\n",
        "d = '''10''' # '''주석으로도 쓰이는데 문자열 값으로도 넣을 수 있습니다.\n",
        "e = \"\"\"10\"\"\"  # str\n",
        "f = True  # 주의! 대소문자\n",
        "g = f'{a+a} 입니다' # f는 안에 연산 하고 싶을 때\n",
        "h = r'10' # 특수문자 넣고 싶을 때\n",
        "i = [10,20,30]  # list\n",
        "j = (10,20,30)  # tuple\n",
        "k = {'one' : '하나', 'two' : '둘'}  # dict\n",
        "i= {1, 1, 1, 2, 2, 2, 3, 3}  # set"
      ],
      "metadata": {
        "id": "eMlSq6W5ckxb"
      },
      "execution_count": null,
      "outputs": []
    },
    {
      "cell_type": "code",
      "source": [
        "type(10.0)"
      ],
      "metadata": {
        "colab": {
          "base_uri": "https://localhost:8080/"
        },
        "id": "ZMrna72Kb74O",
        "outputId": "7fbd34c9-48cd-4d18-e6be-a4e07d452a5a"
      },
      "execution_count": 6,
      "outputs": [
        {
          "output_type": "execute_result",
          "data": {
            "text/plain": [
              "float"
            ]
          },
          "metadata": {},
          "execution_count": 6
        }
      ]
    },
    {
      "cell_type": "markdown",
      "source": [
        "## 사칙연산"
      ],
      "metadata": {
        "id": "ZKBcsESKjw-g"
      }
    },
    {
      "cell_type": "code",
      "source": [
        "a = -10\n",
        "b = 3\n",
        "\n",
        "print(a + b)\n",
        "print(a - b)\n",
        "print(a / b)\n",
        "print(a // b)\n",
        "print(a * b)\n",
        "print(a ** b)\n",
        "print(a % b)"
      ],
      "metadata": {
        "colab": {
          "base_uri": "https://localhost:8080/"
        },
        "id": "G3wjhNw-jyEa",
        "outputId": "0ee3d670-65bd-42b8-a2b2-a03602b20890"
      },
      "execution_count": 11,
      "outputs": [
        {
          "output_type": "stream",
          "name": "stdout",
          "text": [
            "-7\n",
            "-13\n",
            "-3.3333333333333335\n",
            "-4\n",
            "-30\n",
            "-1000\n",
            "2\n"
          ]
        }
      ]
    },
    {
      "cell_type": "code",
      "source": [
        "0.1 + 0.2"
      ],
      "metadata": {
        "id": "Br5PI-GtmU58"
      },
      "execution_count": null,
      "outputs": []
    },
    {
      "cell_type": "markdown",
      "source": [
        "## 논리연산"
      ],
      "metadata": {
        "id": "GgtfJkCqnT8N"
      }
    },
    {
      "cell_type": "code",
      "source": [
        "# True는 1\n",
        "# False는 0\n",
        "# and는 곱\n",
        "# or는 합\n",
        "# not은 반대\n",
        "\n",
        "True and False"
      ],
      "metadata": {
        "colab": {
          "base_uri": "https://localhost:8080/"
        },
        "id": "16sgT40PnXfw",
        "outputId": "01905469-76fc-40f1-a77e-a0270d44ba1a"
      },
      "execution_count": 25,
      "outputs": [
        {
          "output_type": "execute_result",
          "data": {
            "text/plain": [
              "False"
            ]
          },
          "metadata": {},
          "execution_count": 25
        }
      ]
    },
    {
      "cell_type": "code",
      "source": [
        "# and\n",
        "for i in range(100):\n",
        "    if i % 3 == 0 and i % 5 == 0:\n",
        "        print(i)"
      ],
      "metadata": {
        "colab": {
          "base_uri": "https://localhost:8080/"
        },
        "id": "G11SnP39pMC-",
        "outputId": "f93b000a-b184-4c16-9ffd-770872b75add"
      },
      "execution_count": 14,
      "outputs": [
        {
          "output_type": "stream",
          "name": "stdout",
          "text": [
            "0\n",
            "15\n",
            "30\n",
            "45\n",
            "60\n",
            "75\n",
            "90\n"
          ]
        }
      ]
    },
    {
      "cell_type": "code",
      "source": [
        "# and\n",
        "for i in range(100):\n",
        "    if i % 3 == 0 or i % 5 == 0:\n",
        "        print(i)"
      ],
      "metadata": {
        "colab": {
          "base_uri": "https://localhost:8080/"
        },
        "id": "Kh9pEwBpp4Uc",
        "outputId": "5bd678e7-8a18-4ba4-fb59-ad01506be6f6"
      },
      "execution_count": 15,
      "outputs": [
        {
          "output_type": "stream",
          "name": "stdout",
          "text": [
            "0\n",
            "3\n",
            "5\n",
            "6\n",
            "9\n",
            "10\n",
            "12\n",
            "15\n",
            "18\n",
            "20\n",
            "21\n",
            "24\n",
            "25\n",
            "27\n",
            "30\n",
            "33\n",
            "35\n",
            "36\n",
            "39\n",
            "40\n",
            "42\n",
            "45\n",
            "48\n",
            "50\n",
            "51\n",
            "54\n",
            "55\n",
            "57\n",
            "60\n",
            "63\n",
            "65\n",
            "66\n",
            "69\n",
            "70\n",
            "72\n",
            "75\n",
            "78\n",
            "80\n",
            "81\n",
            "84\n",
            "85\n",
            "87\n",
            "90\n",
            "93\n",
            "95\n",
            "96\n",
            "99\n"
          ]
        }
      ]
    },
    {
      "cell_type": "code",
      "source": [
        "'True' and 'False'"
      ],
      "metadata": {
        "colab": {
          "base_uri": "https://localhost:8080/",
          "height": 35
        },
        "id": "cJ-3lRX7q5VI",
        "outputId": "f80db52a-355d-4b16-de73-4ba3403a59ac"
      },
      "execution_count": 19,
      "outputs": [
        {
          "output_type": "execute_result",
          "data": {
            "text/plain": [
              "'False'"
            ],
            "application/vnd.google.colaboratory.intrinsic+json": {
              "type": "string"
            }
          },
          "metadata": {},
          "execution_count": 19
        }
      ]
    },
    {
      "cell_type": "code",
      "source": [],
      "metadata": {
        "id": "WISnJxBktcdD"
      },
      "execution_count": null,
      "outputs": []
    },
    {
      "cell_type": "markdown",
      "source": [
        "## 비교연산"
      ],
      "metadata": {
        "id": "NPWbYutEsL2y"
      }
    },
    {
      "cell_type": "code",
      "source": [
        "a = 10\n",
        "b = 3\n",
        "print(a == b)\n",
        "print(a != b)\n",
        "print(a > b)\n",
        "print(a >= b)\n",
        "print(a < b)\n",
        "print(a <= b)"
      ],
      "metadata": {
        "colab": {
          "base_uri": "https://localhost:8080/"
        },
        "id": "1MCGx5DpsM8x",
        "outputId": "abaf54a3-680a-489b-8dff-43acd4205851"
      },
      "execution_count": 18,
      "outputs": [
        {
          "output_type": "stream",
          "name": "stdout",
          "text": [
            "False\n",
            "True\n",
            "True\n",
            "True\n",
            "False\n",
            "False\n"
          ]
        }
      ]
    },
    {
      "cell_type": "code",
      "source": [],
      "metadata": {
        "id": "1Wt-8lersj2J"
      },
      "execution_count": null,
      "outputs": []
    },
    {
      "cell_type": "markdown",
      "source": [
        "## 문자열 자료형(인덱싱, 슬라이싱)\n",
        "*문자열 자료형은 순서가 있는 시퀀스 자료형입니다.\n",
        "*이런 시퀀스 자료형은 인덱싱, 슬라이싱 등이 됩니다."
      ],
      "metadata": {
        "id": "iPzlIwG60kZ7"
      }
    },
    {
      "cell_type": "code",
      "source": [
        "s = 'paullab CEO leehojun'"
      ],
      "metadata": {
        "id": "yu7n8wN801tl"
      },
      "execution_count": 20,
      "outputs": []
    },
    {
      "cell_type": "code",
      "source": [
        "s[0], s[1] # 인덱싱"
      ],
      "metadata": {
        "colab": {
          "base_uri": "https://localhost:8080/"
        },
        "id": "vc7CIa6D05gK",
        "outputId": "0cde5bb2-2c29-48fd-a080-434e26988729"
      },
      "execution_count": 21,
      "outputs": [
        {
          "output_type": "execute_result",
          "data": {
            "text/plain": [
              "('p', 'a')"
            ]
          },
          "metadata": {},
          "execution_count": 21
        }
      ]
    },
    {
      "cell_type": "code",
      "source": [
        "s[-1], s[-2]"
      ],
      "metadata": {
        "colab": {
          "base_uri": "https://localhost:8080/"
        },
        "id": "0J69tls-1ak0",
        "outputId": "435f92ee-616d-4b46-f1ec-b6766bcb48cd"
      },
      "execution_count": 22,
      "outputs": [
        {
          "output_type": "execute_result",
          "data": {
            "text/plain": [
              "('n', 'u')"
            ]
          },
          "metadata": {},
          "execution_count": 22
        }
      ]
    },
    {
      "cell_type": "code",
      "source": [
        "s[8] + s[9] + s[10]"
      ],
      "metadata": {
        "colab": {
          "base_uri": "https://localhost:8080/",
          "height": 35
        },
        "id": "katud6Wx18OT",
        "outputId": "4639e97b-03c9-45db-b0a3-65e6c2d0c955"
      },
      "execution_count": 23,
      "outputs": [
        {
          "output_type": "execute_result",
          "data": {
            "text/plain": [
              "'CEO'"
            ],
            "application/vnd.google.colaboratory.intrinsic+json": {
              "type": "string"
            }
          },
          "metadata": {},
          "execution_count": 23
        }
      ]
    },
    {
      "cell_type": "code",
      "source": [
        "# 자료형[start:stop:step] # step은 생략 가능합니다.\n",
        "s[8:11]\n",
        "s[:11]\n",
        "s[8:]\n",
        "s[::-1]"
      ],
      "metadata": {
        "colab": {
          "base_uri": "https://localhost:8080/",
          "height": 35
        },
        "id": "BDLV3c2e2EL5",
        "outputId": "b1a8caf4-1810-496a-b5f1-bb35f5d19c7d"
      },
      "execution_count": 24,
      "outputs": [
        {
          "output_type": "execute_result",
          "data": {
            "text/plain": [
              "'nujoheel OEC balluap'"
            ],
            "application/vnd.google.colaboratory.intrinsic+json": {
              "type": "string"
            }
          },
          "metadata": {},
          "execution_count": 24
        }
      ]
    },
    {
      "cell_type": "code",
      "source": [],
      "metadata": {
        "id": "GQWNNV8s3BhM"
      },
      "execution_count": null,
      "outputs": []
    },
    {
      "cell_type": "markdown",
      "source": [
        "## 문자열의 메서드"
      ],
      "metadata": {
        "id": "Y358cPw64F_l"
      }
    },
    {
      "cell_type": "code",
      "source": [
        "s, type(s), dir(s)"
      ],
      "metadata": {
        "colab": {
          "base_uri": "https://localhost:8080/"
        },
        "id": "sY-9tmkU4XZ5",
        "outputId": "112b258c-9116-405b-948b-b0ec523a6088"
      },
      "execution_count": 26,
      "outputs": [
        {
          "output_type": "execute_result",
          "data": {
            "text/plain": [
              "('paullab CEO leehojun',\n",
              " str,\n",
              " ['__add__',\n",
              "  '__class__',\n",
              "  '__contains__',\n",
              "  '__delattr__',\n",
              "  '__dir__',\n",
              "  '__doc__',\n",
              "  '__eq__',\n",
              "  '__format__',\n",
              "  '__ge__',\n",
              "  '__getattribute__',\n",
              "  '__getitem__',\n",
              "  '__getnewargs__',\n",
              "  '__gt__',\n",
              "  '__hash__',\n",
              "  '__init__',\n",
              "  '__init_subclass__',\n",
              "  '__iter__',\n",
              "  '__le__',\n",
              "  '__len__',\n",
              "  '__lt__',\n",
              "  '__mod__',\n",
              "  '__mul__',\n",
              "  '__ne__',\n",
              "  '__new__',\n",
              "  '__reduce__',\n",
              "  '__reduce_ex__',\n",
              "  '__repr__',\n",
              "  '__rmod__',\n",
              "  '__rmul__',\n",
              "  '__setattr__',\n",
              "  '__sizeof__',\n",
              "  '__str__',\n",
              "  '__subclasshook__',\n",
              "  'capitalize',\n",
              "  'casefold',\n",
              "  'center',\n",
              "  'count',\n",
              "  'encode',\n",
              "  'endswith',\n",
              "  'expandtabs',\n",
              "  'find',\n",
              "  'format',\n",
              "  'format_map',\n",
              "  'index',\n",
              "  'isalnum',\n",
              "  'isalpha',\n",
              "  'isascii',\n",
              "  'isdecimal',\n",
              "  'isdigit',\n",
              "  'isidentifier',\n",
              "  'islower',\n",
              "  'isnumeric',\n",
              "  'isprintable',\n",
              "  'isspace',\n",
              "  'istitle',\n",
              "  'isupper',\n",
              "  'join',\n",
              "  'ljust',\n",
              "  'lower',\n",
              "  'lstrip',\n",
              "  'maketrans',\n",
              "  'partition',\n",
              "  'removeprefix',\n",
              "  'removesuffix',\n",
              "  'replace',\n",
              "  'rfind',\n",
              "  'rindex',\n",
              "  'rjust',\n",
              "  'rpartition',\n",
              "  'rsplit',\n",
              "  'rstrip',\n",
              "  'split',\n",
              "  'splitlines',\n",
              "  'startswith',\n",
              "  'strip',\n",
              "  'swapcase',\n",
              "  'title',\n",
              "  'translate',\n",
              "  'upper',\n",
              "  'zfill'])"
            ]
          },
          "metadata": {},
          "execution_count": 26
        }
      ]
    },
    {
      "cell_type": "code",
      "source": [
        "# 'count','find','format','index','isalpha','isdigit',\n",
        "# 'join','lower','replace','split','upper'\n",
        "\n",
        "s.upper()"
      ],
      "metadata": {
        "colab": {
          "base_uri": "https://localhost:8080/",
          "height": 35
        },
        "id": "S9YmieBj4cAP",
        "outputId": "302e47a9-e0d6-4151-e51b-88dbb1bd5aca"
      },
      "execution_count": 27,
      "outputs": [
        {
          "output_type": "execute_result",
          "data": {
            "text/plain": [
              "'PAULLAB CEO LEEHOJUN'"
            ],
            "application/vnd.google.colaboratory.intrinsic+json": {
              "type": "string"
            }
          },
          "metadata": {},
          "execution_count": 27
        }
      ]
    },
    {
      "cell_type": "code",
      "source": [
        "s.count('l') # l의 갯수는? 3개\n",
        "s.find('CEO') # CEO의 단어의 인덱스는? 없는 문자열을 찾으면 -1 <--- -1도 True로 평가\n",
        "s.index('CEO') # CEO의 단어의 인덱스는? 없는 문자열을 찾으면 ERROR\n",
        "'hello {} world {}'.format(10, 20)\n",
        "f'hello {10} world {20}'\n",
        "'1'.isdigit()\n",
        "'hello'.isdigit() # 문자열 안이 숫자냐?\n",
        "'-'.join(['010','5044','2903'])\n",
        "s.replace('CEO', 'CTO')\n",
        "'-'.join('010!5044!2903'.split('!'))"
      ],
      "metadata": {
        "colab": {
          "base_uri": "https://localhost:8080/",
          "height": 35
        },
        "id": "Iektkpct5tmP",
        "outputId": "5a2dacd1-7820-45be-f50d-24c80be8b3e0"
      },
      "execution_count": 40,
      "outputs": [
        {
          "output_type": "execute_result",
          "data": {
            "text/plain": [
              "'010-5044-2903'"
            ],
            "application/vnd.google.colaboratory.intrinsic+json": {
              "type": "string"
            }
          },
          "metadata": {},
          "execution_count": 40
        }
      ]
    },
    {
      "cell_type": "code",
      "source": [],
      "metadata": {
        "id": "Js-EumXj7oQ1"
      },
      "execution_count": null,
      "outputs": []
    }
  ]
}